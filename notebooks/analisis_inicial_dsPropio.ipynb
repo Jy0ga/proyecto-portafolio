{
 "cells": [
  {
   "cell_type": "code",
   "execution_count": null,
   "id": "35ca21a3-ba93-44f2-9b0f-511503890a18",
   "metadata": {},
   "outputs": [],
   "source": [
    "import pandas as pd"
   ]
  },
  {
   "cell_type": "code",
   "execution_count": null,
   "id": "7547f2bf-8b17-4abc-8d87-1dbb008f2bbf",
   "metadata": {},
   "outputs": [],
   "source": [
    "pd.read_csv('./../data/'adult-depression-lghc-indicator-2.csv)"
   ]
  }
 ],
 "metadata": {
  "kernelspec": {
   "display_name": "Python 3",
   "language": "python",
   "name": "python3"
  },
  "language_info": {
   "codemirror_mode": {
    "name": "ipython",
    "version": 3
   },
   "file_extension": ".py",
   "mimetype": "text/x-python",
   "name": "python",
   "nbconvert_exporter": "python",
   "pygments_lexer": "ipython3",
   "version": "3.8.8"
  }
 },
 "nbformat": 4,
 "nbformat_minor": 5
}
