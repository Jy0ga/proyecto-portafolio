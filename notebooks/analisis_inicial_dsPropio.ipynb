{
 "cells": [
  {
   "cell_type": "code",
   "execution_count": 1,
   "id": "35ca21a3-ba93-44f2-9b0f-511503890a18",
   "metadata": {},
   "outputs": [],
   "source": [
    "import pandas as pd"
   ]
  },
  {
   "cell_type": "code",
   "execution_count": 3,
   "id": "7547f2bf-8b17-4abc-8d87-1dbb008f2bbf",
   "metadata": {},
   "outputs": [],
   "source": [
    "depre_indicators = pd.read_csv('./../data/adult-depression-lghc-indicator-2.csv')"
   ]
  },
  {
   "cell_type": "code",
   "execution_count": 4,
   "id": "ef7ca17e-db5f-418b-8c59-04bd9eefa131",
   "metadata": {},
   "outputs": [
    {
     "data": {
      "text/html": [
       "<div>\n",
       "<style scoped>\n",
       "    .dataframe tbody tr th:only-of-type {\n",
       "        vertical-align: middle;\n",
       "    }\n",
       "\n",
       "    .dataframe tbody tr th {\n",
       "        vertical-align: top;\n",
       "    }\n",
       "\n",
       "    .dataframe thead th {\n",
       "        text-align: right;\n",
       "    }\n",
       "</style>\n",
       "<table border=\"1\" class=\"dataframe\">\n",
       "  <thead>\n",
       "    <tr style=\"text-align: right;\">\n",
       "      <th></th>\n",
       "      <th>Year</th>\n",
       "      <th>Strata</th>\n",
       "      <th>Strata Name</th>\n",
       "      <th>Frequency</th>\n",
       "      <th>Weighted Frequency</th>\n",
       "      <th>Percent</th>\n",
       "      <th>Lower 95% CL</th>\n",
       "      <th>Upper 95% CL</th>\n",
       "    </tr>\n",
       "  </thead>\n",
       "  <tbody>\n",
       "    <tr>\n",
       "      <th>0</th>\n",
       "      <td>2012</td>\n",
       "      <td>Total</td>\n",
       "      <td>Total</td>\n",
       "      <td>1920</td>\n",
       "      <td>NaN</td>\n",
       "      <td>11.74</td>\n",
       "      <td>11.11</td>\n",
       "      <td>12.37</td>\n",
       "    </tr>\n",
       "    <tr>\n",
       "      <th>1</th>\n",
       "      <td>2012</td>\n",
       "      <td>Sex</td>\n",
       "      <td>Male</td>\n",
       "      <td>561</td>\n",
       "      <td>1116664.0</td>\n",
       "      <td>8.12</td>\n",
       "      <td>7.32</td>\n",
       "      <td>8.92</td>\n",
       "    </tr>\n",
       "    <tr>\n",
       "      <th>2</th>\n",
       "      <td>2012</td>\n",
       "      <td>Sex</td>\n",
       "      <td>Female</td>\n",
       "      <td>1359</td>\n",
       "      <td>2163108.0</td>\n",
       "      <td>15.25</td>\n",
       "      <td>14.30</td>\n",
       "      <td>16.20</td>\n",
       "    </tr>\n",
       "    <tr>\n",
       "      <th>3</th>\n",
       "      <td>2012</td>\n",
       "      <td>Race-Ethnicity</td>\n",
       "      <td>White</td>\n",
       "      <td>1314</td>\n",
       "      <td>1806371.0</td>\n",
       "      <td>14.57</td>\n",
       "      <td>13.67</td>\n",
       "      <td>15.46</td>\n",
       "    </tr>\n",
       "    <tr>\n",
       "      <th>4</th>\n",
       "      <td>2012</td>\n",
       "      <td>Race-Ethnicity</td>\n",
       "      <td>Black</td>\n",
       "      <td>97</td>\n",
       "      <td>222022.0</td>\n",
       "      <td>13.54</td>\n",
       "      <td>10.44</td>\n",
       "      <td>16.65</td>\n",
       "    </tr>\n",
       "  </tbody>\n",
       "</table>\n",
       "</div>"
      ],
      "text/plain": [
       "   Year          Strata Strata Name  Frequency  Weighted Frequency  Percent  \\\n",
       "0  2012           Total       Total       1920                 NaN    11.74   \n",
       "1  2012             Sex        Male        561           1116664.0     8.12   \n",
       "2  2012             Sex      Female       1359           2163108.0    15.25   \n",
       "3  2012  Race-Ethnicity       White       1314           1806371.0    14.57   \n",
       "4  2012  Race-Ethnicity       Black         97            222022.0    13.54   \n",
       "\n",
       "   Lower 95% CL  Upper 95% CL  \n",
       "0         11.11         12.37  \n",
       "1          7.32          8.92  \n",
       "2         14.30         16.20  \n",
       "3         13.67         15.46  \n",
       "4         10.44         16.65  "
      ]
     },
     "execution_count": 4,
     "metadata": {},
     "output_type": "execute_result"
    }
   ],
   "source": [
    "depre_indicators.head()"
   ]
  },
  {
   "cell_type": "code",
   "execution_count": 5,
   "id": "dbf730fb-774b-43fa-8bb5-236145fcacfb",
   "metadata": {},
   "outputs": [
    {
     "data": {
      "text/plain": [
       "(161, 8)"
      ]
     },
     "execution_count": 5,
     "metadata": {},
     "output_type": "execute_result"
    }
   ],
   "source": [
    "depre_indicators.shape"
   ]
  },
  {
   "cell_type": "code",
   "execution_count": 6,
   "id": "be4c0e42-ca16-403f-9605-212ff51d00b8",
   "metadata": {},
   "outputs": [
    {
     "data": {
      "text/plain": [
       "Year                    int64\n",
       "Strata                 object\n",
       "Strata Name            object\n",
       "Frequency               int64\n",
       "Weighted Frequency    float64\n",
       "Percent               float64\n",
       "Lower 95% CL          float64\n",
       "Upper 95% CL          float64\n",
       "dtype: object"
      ]
     },
     "execution_count": 6,
     "metadata": {},
     "output_type": "execute_result"
    }
   ],
   "source": [
    "depre_indicators.dtypes"
   ]
  },
  {
   "cell_type": "code",
   "execution_count": null,
   "id": "1dd515af-9dc7-4c3e-8d6f-edd3432c9b5a",
   "metadata": {},
   "outputs": [],
   "source": []
  }
 ],
 "metadata": {
  "kernelspec": {
   "display_name": "Python 3",
   "language": "python",
   "name": "python3"
  },
  "language_info": {
   "codemirror_mode": {
    "name": "ipython",
    "version": 3
   },
   "file_extension": ".py",
   "mimetype": "text/x-python",
   "name": "python",
   "nbconvert_exporter": "python",
   "pygments_lexer": "ipython3",
   "version": "3.8.8"
  }
 },
 "nbformat": 4,
 "nbformat_minor": 5
}
